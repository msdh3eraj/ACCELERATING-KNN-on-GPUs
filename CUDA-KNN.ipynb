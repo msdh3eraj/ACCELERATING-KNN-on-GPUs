{
  "nbformat": 4,
  "nbformat_minor": 0,
  "metadata": {
    "colab": {
      "provenance": []
    },
    "kernelspec": {
      "name": "python3",
      "display_name": "Python 3"
    },
    "language_info": {
      "name": "python"
    },
    "accelerator": "GPU",
    "gpuClass": "standard"
  },
  "cells": [
    {
      "cell_type": "code",
      "source": [
        "from google.colab import drive\n",
        "\n",
        "drive.mount(\"/content/gdrive\")"
      ],
      "metadata": {
        "colab": {
          "base_uri": "https://localhost:8080/"
        },
        "id": "KILzfidxdbho",
        "outputId": "7244ab60-bd30-48d5-854c-cd1a3702491b"
      },
      "execution_count": null,
      "outputs": [
        {
          "output_type": "stream",
          "name": "stdout",
          "text": [
            "Mounted at /content/gdrive\n"
          ]
        }
      ]
    },
    {
      "cell_type": "code",
      "source": [
        "!pip install numba"
      ],
      "metadata": {
        "colab": {
          "base_uri": "https://localhost:8080/"
        },
        "id": "H-ZT5zqjcHoL",
        "outputId": "5cf68e34-9c8c-4708-e901-2f9fa1edca70"
      },
      "execution_count": null,
      "outputs": [
        {
          "output_type": "stream",
          "name": "stdout",
          "text": [
            "Looking in indexes: https://pypi.org/simple, https://us-python.pkg.dev/colab-wheels/public/simple/\n",
            "Requirement already satisfied: numba in /usr/local/lib/python3.9/dist-packages (0.56.4)\n",
            "Requirement already satisfied: llvmlite<0.40,>=0.39.0dev0 in /usr/local/lib/python3.9/dist-packages (from numba) (0.39.1)\n",
            "Requirement already satisfied: setuptools in /usr/local/lib/python3.9/dist-packages (from numba) (67.6.1)\n",
            "Requirement already satisfied: numpy<1.24,>=1.18 in /usr/local/lib/python3.9/dist-packages (from numba) (1.22.4)\n"
          ]
        }
      ]
    },
    {
      "cell_type": "code",
      "source": [
        "import numba.cuda as cuda\n",
        "\n",
        "\n",
        "device = cuda.get_current_device()\n",
        "\n",
        "print(\"Device name:\", device.name)\n",
        "print(\"Device compute capability:\", device.compute_capability)\n",
        "print(\"Device threads per block:\", device.WARP_SIZE)\n",
        "print(\"Device number of multi-processors:\", device.MULTIPROCESSOR_COUNT)"
      ],
      "metadata": {
        "colab": {
          "base_uri": "https://localhost:8080/"
        },
        "id": "tu-VG8TrBkyW",
        "outputId": "3d66acdf-9c2d-42ff-e59b-232387970f3f"
      },
      "execution_count": null,
      "outputs": [
        {
          "output_type": "stream",
          "name": "stdout",
          "text": [
            "Device name: b'Tesla T4'\n",
            "Device compute capability: (7, 5)\n",
            "Device threads per block: 32\n",
            "Device number of multi-processors: 40\n"
          ]
        }
      ]
    },
    {
      "cell_type": "code",
      "source": [
        "temp = []\n",
        "import random\n",
        "temp2 = []\n",
        "with open('pp_tes.dat', 'r') as file:\n",
        "    for line in file:\n",
        "        for word in line.split():\n",
        "            temp.append(word)\n",
        "testing_data = [temp[i * 193:(i + 1) * 193] for i in range((len(temp) + 193 - 1) // 193)]\n",
        "arrr = []\n",
        "for i in testing_data:\n",
        "    if(i[-1] == '0' or i[-1] == '1'):\n",
        "        arrr.append(i)\n",
        "random.shuffle(arrr)\n",
        "testing_data = arrr[:50]\n",
        "k=[]\n",
        "for i in testing_data:\n",
        "\n",
        "    i.extend(i)\n",
        "    i.extend(i)\n",
        "    i.extend(i)\n",
        "    i.extend(i)\n",
        "    i.extend(i)\n",
        "    k.append(i)\n",
        "testing_data=k\n",
        "\n",
        "with open('pp_tra.dat', 'r') as file:\n",
        "    for line in file:\n",
        "        for word in line.split():\n",
        "            temp2.append(word)\n",
        "training_data = [temp2[i * 193:(i + 1) * 193] for i in range((len(temp2) + 193 - 1) // 193)]\n",
        "arrr = []\n",
        "for i in training_data:\n",
        "    if(i[-1] == '0' or i[-1] == '1'):\n",
        "        arrr.append(i)\n",
        "random.shuffle(arrr)\n",
        "training_data = arrr[:50]\n",
        "k=[]\n",
        "for i in training_data:\n",
        "    i.extend(i)\n",
        "    i.extend(i)\n",
        "    i.extend(i)\n",
        "    i.extend(i)\n",
        "    i.extend(i)\n",
        "    i.extend(i)\n",
        "    k.append(i)\n",
        "training_data=k\n",
        "print(len(training_data[6]))"
      ],
      "metadata": {
        "colab": {
          "base_uri": "https://localhost:8080/"
        },
        "id": "I3VVEhBP9mDC",
        "outputId": "c573ae61-161e-4c14-be66-5bf270a32a71"
      },
      "execution_count": null,
      "outputs": [
        {
          "output_type": "stream",
          "name": "stdout",
          "text": [
            "12352\n"
          ]
        }
      ]
    },
    {
      "cell_type": "markdown",
      "source": [
        "# Parallel Implementation"
      ],
      "metadata": {
        "id": "H0rRQIgDFKmC"
      }
    },
    {
      "cell_type": "code",
      "source": [
        "import numpy as np\n",
        "import random\n",
        "from math import pow\n",
        "from numba import cuda\n",
        "@cuda.jit\n",
        "def distancebtwpoints_cuda(point1, point2, p, distance):\n",
        "    distance_local = 0\n",
        "    idx = cuda.threadIdx.x + cuda.blockIdx.x * cuda.blockDim.x\n",
        "    if idx < len(point1):\n",
        "        p1 = point1[idx]\n",
        "        p2 = point2[idx]\n",
        "        k = 1\n",
        "        if p1 > p2:\n",
        "            k = p1 - p2\n",
        "        else:\n",
        "            k = p2 - p1\n",
        "        distance_local += k ** p\n",
        "    cuda.atomic.add(distance, 0, distance_local)\n",
        "\n",
        "\n",
        "\n",
        "\n",
        "def KNNC(testpoint, k, training, p):\n",
        "    testpointfordist = testpoint[:-1]\n",
        "    testpointfordist=np.array(testpointfordist).astype(np.float32)\n",
        "    distanceofALL_totestpoint = []\n",
        "    for trainpoint in training:\n",
        "        trainpointfordist = trainpoint[:-1]\n",
        "        trainpointfordist = np.float32(trainpointfordist)\n",
        "        point1_gpu = cuda.to_device(trainpointfordist)\n",
        "        distance = np.zeros(1, dtype=np.float32)\n",
        "        distance_gpu = cuda.to_device(distance)\n",
        "        point2_gpu = cuda.to_device(np.float32(testpointfordist))\n",
        "        threadsperblock = 10\n",
        "        blockspergrid = (len(trainpointfordist) + (threadsperblock - 1)) // threadsperblock\n",
        "        distancebtwpoints_cuda[blockspergrid, threadsperblock](point1_gpu, point2_gpu, p, distance_gpu)\n",
        "        distance = distance_gpu.copy_to_host()\n",
        "        distancetuple = (distance[0], trainpoint[-1])\n",
        "        distanceofALL_totestpoint.append(distancetuple)\n",
        "    distanceofKnearest = sorted(distanceofALL_totestpoint)[:k]\n",
        "    g = []\n",
        "    for i in range(len(distanceofKnearest)):\n",
        "        g.append(distanceofKnearest[i][1])\n",
        "    res = max(set(g), key=g.count)\n",
        "    return res\n",
        "    cuda.select_device(0)\n",
        "cuda.close()\n",
        "cuda.select_device\n",
        "cuda.select_device(0)\n",
        "\n",
        "\n",
        "\n",
        "# Test KNN\n",
        "# Test KNNC function\n",
        "\n",
        "\n",
        "\n",
        "\n",
        "for i in testing_data:\n",
        "    l = KNNC(i, 5, training_data, 10)\n",
        "    print(l)"
      ],
      "metadata": {
        "id": "JnbSl0Iv-pEi"
      },
      "execution_count": null,
      "outputs": []
    },
    {
      "cell_type": "markdown",
      "source": [
        "# serial implementation:"
      ],
      "metadata": {
        "id": "nFRM33g9FEtW"
      }
    },
    {
      "cell_type": "code",
      "source": [
        "import random\n",
        "from math import pow\n",
        "\n",
        "kaccuracies = []\n",
        "temp = []\n",
        "temp2 = []\n",
        "\n",
        "\n",
        "### points===testing_data1{array}\n",
        "def distancebtwpoints(point1, point2, p):\n",
        "    distance = 0\n",
        "    for i in range(len(point1)):\n",
        "        p1 = float(point1[i])\n",
        "        p2 = float(point2[i])\n",
        "        k = abs(p1 - p2)\n",
        "        distance += (k) ** p\n",
        "    return pow(distance, 1 / p)\n",
        "\n",
        "\n",
        "def KNNC(testpoint, k, training, p):  ##aray of arrays\n",
        "#test point is an array\n",
        "    testpointfordist = testpoint[:-1]\n",
        "    distanceofALL_totestpoint = []\n",
        "    for trainpoint in training:\n",
        "        trainpointfordist = trainpoint[:-1]\n",
        "        t = distancebtwpoints(trainpointfordist, testpointfordist, p)\n",
        "        distancetuple = (t, trainpoint[-1])\n",
        "        # print(distancetuple)\n",
        "        distanceofALL_totestpoint.append(distancetuple)\n",
        "    distanceofKnearest = sorted(distanceofALL_totestpoint)[:k]\n",
        "    g = []\n",
        "    for i in range(len(distanceofKnearest)):\n",
        "        g.append(distanceofKnearest[i][1])\n",
        "    res = max(set(g), key=g.count)\n",
        "    print(res)\n",
        "    return res\n",
        "\n",
        "for i in testing_data:\n",
        "  l=KNNC(i,5,training_data,10)\n",
        "  print(l)\n",
        "  \n"
      ],
      "metadata": {
        "id": "D2MLnRpv-_M1"
      },
      "execution_count": null,
      "outputs": []
    },
    {
      "cell_type": "code",
      "source": [],
      "metadata": {
        "id": "Z1r-TKJ4DCPX"
      },
      "execution_count": null,
      "outputs": []
    },
    {
      "cell_type": "code",
      "source": [],
      "metadata": {
        "id": "P3EPNoVpGfz6"
      },
      "execution_count": null,
      "outputs": []
    },
    {
      "cell_type": "code",
      "source": [],
      "metadata": {
        "id": "UWFFFjPUIcGM"
      },
      "execution_count": null,
      "outputs": []
    },
    {
      "cell_type": "code",
      "source": [],
      "metadata": {
        "id": "MV-rTwyEIe_K"
      },
      "execution_count": null,
      "outputs": []
    },
    {
      "cell_type": "code",
      "source": [],
      "metadata": {
        "id": "0mgP9nLLlEE_"
      },
      "execution_count": null,
      "outputs": []
    }
  ]
}